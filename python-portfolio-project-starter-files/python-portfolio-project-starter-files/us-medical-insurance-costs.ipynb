{
 "cells": [
  {
   "cell_type": "markdown",
   "metadata": {},
   "source": [
    "# U.S. Medical Insurance Costs"
   ]
  },
  {
   "cell_type": "markdown",
   "metadata": {},
   "source": [
    "Os dados estão em formato csv.\n",
    "\n",
    "Insurance variáveis: age, sex, bmi, childen, smoker, region, charges.\n",
    "\n",
    "Notas:\n",
    "Importei csv e criei as listas vazias age, sex, bmi, children, smoker, region, charges.\n",
    "\n",
    "Abro o file \"insurance.csv\" como insurance_csv, e armazeno o file \"incurance_csv\" em insurance_read para poder ler o file csv em python.\n",
    "Para armazenar cada coluna em cada variável utilizo o instrumento \"append\" para meter dentro das variáveis."
   ]
  },
  {
   "cell_type": "code",
   "execution_count": 50,
   "metadata": {},
   "outputs": [],
   "source": [
    "import csv\n",
    "\n",
    "age = []\n",
    "sex = []\n",
    "bmi = []\n",
    "children = []\n",
    "smoker = []\n",
    "region = []\n",
    "charges = []\n",
    "\n",
    "with open(\"insurance.csv\") as insurance_csv:\n",
    "    insurance_read = csv.DictReader(insurance_csv)\n",
    "    for row in insurance_read:\n",
    "        age.append(int(row['age']))\n",
    "        sex.append(row['sex'])\n",
    "        bmi.append(float(row['bmi']))\n",
    "        children.append(int(row['children']))\n",
    "        smoker.append(row['smoker'])\n",
    "        region.append(row['region'])\n",
    "        charges.append(float(row['charges']))\n",
    "\n",
    "#print(age)\n",
    "#print(sex)\n",
    "#print(bmi)\n",
    "#print(children)\n",
    "#print(smoker)\n",
    "#print(region)\n",
    "#print(charges)\n"
   ]
  },
  {
   "cell_type": "markdown",
   "metadata": {},
   "source": [
    "Encontrar a média de cada variável."
   ]
  },
  {
   "cell_type": "code",
   "execution_count": 49,
   "metadata": {},
   "outputs": [
    {
     "name": "stdout",
     "output_type": "stream",
     "text": [
      "Total de homens: 676; Total de mulheres: 662\n",
      "Número de fumantes: 274; Número de não fumantes: 1064\n",
      "Número de participantes em Southwest: 325; Número de participantes em Northwest: 325; Número de participantes em Northeast: 324; Número de participantes em Southeast: 364\n"
     ]
    }
   ],
   "source": [
    "def media(x):\n",
    "    m = sum(x) / len(x)\n",
    "    return m\n",
    "\n",
    "#media(age)\n",
    "#media(bmi)\n",
    "#media(children)\n",
    "#media(charges)\n",
    "\n",
    "def mediastring(lista, palavra1, palavra2):\n",
    "    pal1_counter = 0\n",
    "    pal2_counter = 0\n",
    "    for char in lista:\n",
    "        if char == palavra1:\n",
    "            pal1_counter += 1\n",
    "        elif char == palavra2:\n",
    "            pal2_counter += 1\n",
    "    return pal1_counter, pal2_counter\n",
    "\n",
    "male_count, female_count = mediastring(sex, \"male\", \"female\")\n",
    "print(f\"Total de homens: {male_count}; Total de mulheres: {female_count}\")\n",
    "smoker_yes, smoker_no = mediastring(smoker, \"yes\", \"no\")\n",
    "print(f\"Número de fumantes: {smoker_yes}; Número de não fumantes: {smoker_no}\")\n",
    "\n",
    "reg1 = \"southwest\"\n",
    "reg2 = \"northwest\"\n",
    "reg3 = \"northeast\"\n",
    "reg4 = \"southeast\"\n",
    "reg1_counter = 0\n",
    "reg2_counter = 0\n",
    "reg3_counter = 0\n",
    "reg4_counter = 0\n",
    "for char in region:\n",
    "    if char == reg1:\n",
    "        reg1_counter += 1\n",
    "    elif char == reg2:\n",
    "        reg2_counter += 1\n",
    "    elif char == reg3:\n",
    "        reg3_counter += 1\n",
    "    elif char == reg4:\n",
    "        reg4_counter += 1\n",
    "print(f\"Número de participantes em Southwest: {reg1_counter}; Número de participantes em Northwest: {reg2_counter}; Número de participantes em Northeast: {reg3_counter}; Número de participantes em Southeast: {reg4_counter}\")"
   ]
  }
 ],
 "metadata": {
  "kernelspec": {
   "display_name": "Python (dissertacao_m)",
   "language": "python",
   "name": "dissertacao_mestrado"
  },
  "language_info": {
   "codemirror_mode": {
    "name": "ipython",
    "version": 3
   },
   "file_extension": ".py",
   "mimetype": "text/x-python",
   "name": "python",
   "nbconvert_exporter": "python",
   "pygments_lexer": "ipython3",
   "version": "3.13.2"
  }
 },
 "nbformat": 4,
 "nbformat_minor": 4
}
