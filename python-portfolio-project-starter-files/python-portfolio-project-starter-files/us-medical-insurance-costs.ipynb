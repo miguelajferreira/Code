{
 "cells": [
  {
   "cell_type": "markdown",
   "metadata": {},
   "source": [
    "# U.S. Medical Insurance Costs"
   ]
  },
  {
   "cell_type": "markdown",
   "metadata": {},
   "source": [
    "Os dados estão em formato csv.\n",
    "\n",
    "Insurance variáveis: age, sex, bmi, childen, smoker, region, charges.\n",
    "\n",
    "Notas:\n",
    "1. Importei csv e criei as listas vazias age, sex, bmi, children, smoker, region, charges.\n",
    "Abro o file \"insurance.csv\" como insurance_csv, e armazeno o file \"incurance_csv\" em insurance_read para poder ler o file csv em python.\n",
    "Para armazenar cada coluna em cada variável utilizo o instrumento \"append\" para meter dentro das variáveis.\n",
    "\n",
    "2. Após isso decidi calcular as médias de cada variável no file Insurance.\n",
    "Para as variáveis int e float foi simples, a soma de cada valor dentro da variável a dividir pelo número de participantes. Criei a função media para calcular as médias das variáveis age, bmi, children e charges.\n",
    "\n",
    "3. Com as variáveis que tinham string, criei a variável mediastring para saber qual é a opção mais prevalente dentro dessas variáveis. Utilizei loops para alcançar esse objetivo. Consegui fazer isto com as variáveis sex e smoker dentro da função que criei chamada de mediastring. \n",
    "\n",
    "4. Sendo que a variável region como tem dentro de si 4 diferentes tipos de resposta, não dava para utilizar a nova função que criei,então utilizei o for loop para chegar à resposta."
   ]
  },
  {
   "cell_type": "code",
   "execution_count": null,
   "metadata": {},
   "outputs": [
    {
     "name": "stdout",
     "output_type": "stream",
     "text": [
      "Média de idade: 39.20702541106129\n",
      "Média de bmi: 30.66339686098655\n",
      "Média de crianças: 1.0949177877429\n",
      "Média de charges: 13270.422265141257\n",
      "Existem mais male do que female na lista.\n",
      "Total de males: 676; Total de females: 662\n",
      "Existem mais no do que yes na lista.\n",
      "Número de fumantes: 274; Número de não fumantes: 1064\n",
      "Número de participantes em Southwest: 325; Número de participantes em Northwest: 325; Número de participantes em Northeast: 324; Número de participantes em Southeast: 364\n"
     ]
    }
   ],
   "source": [
    "import csv\n",
    "\n",
    "#1. \n",
    "age = []\n",
    "sex = []\n",
    "bmi = []\n",
    "children = []\n",
    "smoker = []\n",
    "region = []\n",
    "charges = []\n",
    "\n",
    "with open(\"insurance.csv\") as insurance_csv:\n",
    "    insurance_read = csv.DictReader(insurance_csv)\n",
    "    for row in insurance_read:\n",
    "        age.append(int(row['age']))\n",
    "        sex.append(row['sex'])\n",
    "        bmi.append(float(row['bmi']))\n",
    "        children.append(int(row['children']))\n",
    "        smoker.append(row['smoker'])\n",
    "        region.append(row['region'])\n",
    "        charges.append(float(row['charges']))\n",
    "\n",
    "#print(age)\n",
    "#print(sex)\n",
    "#print(bmi)\n",
    "#print(children)\n",
    "#print(smoker)\n",
    "#print(region)\n",
    "#print(charges)\n",
    "\n",
    "\n",
    "#2.\n",
    "def media(x):\n",
    "    m = sum(x) / len(x)\n",
    "    return m\n",
    "\n",
    "media_de_idade = media(age)\n",
    "media_de_bmi = media(bmi)\n",
    "media_de_crianças = media(children)\n",
    "media_de_charges = media(charges)\n",
    "\n",
    "print(f\"Média de idade: {media_de_idade}\")\n",
    "print(f\"Média de bmi: {media_de_bmi}\")\n",
    "print(f\"Média de crianças: {media_de_crianças}\")\n",
    "print(f\"Média de charges: {media_de_charges}\")\n",
    "\n",
    "#3.\n",
    "def mediastring(lista, palavra1, palavra2):\n",
    "    pal1_counter = 0\n",
    "    pal2_counter = 0\n",
    "    for char in lista:\n",
    "        if char == palavra1:\n",
    "            pal1_counter += 1\n",
    "        elif char == palavra2:\n",
    "            pal2_counter += 1\n",
    "    if pal1_counter > pal2_counter:\n",
    "        print(f\"Existem mais {palavra1} do que {palavra2} na lista.\")\n",
    "    elif pal2_counter > pal1_counter:\n",
    "        print(f\"Existem mais {palavra2} do que {palavra1} na lista.\")\n",
    "    else:\n",
    "        print(\"Both variables are the same!!\")\n",
    "    return pal1_counter, pal2_counter\n",
    "\n",
    "male_count, female_count = mediastring(sex, \"male\", \"female\")\n",
    "print(f\"Total de males: {male_count}; Total de females: {female_count}\")\n",
    "smoker_yes, smoker_no = mediastring(smoker, \"yes\", \"no\")\n",
    "print(f\"Número de fumantes: {smoker_yes}; Número de não fumantes: {smoker_no}\")\n",
    "\n",
    "#4.\n",
    "reg1 = \"southwest\"\n",
    "reg2 = \"northwest\"\n",
    "reg3 = \"northeast\"\n",
    "reg4 = \"southeast\"\n",
    "reg1_counter = 0\n",
    "reg2_counter = 0\n",
    "reg3_counter = 0\n",
    "reg4_counter = 0\n",
    "for char in region:\n",
    "    if char == reg1:\n",
    "        reg1_counter += 1\n",
    "    elif char == reg2:\n",
    "        reg2_counter += 1\n",
    "    elif char == reg3:\n",
    "        reg3_counter += 1\n",
    "    elif char == reg4:\n",
    "        reg4_counter += 1\n",
    "print(f\"Número de participantes em Southwest: {reg1_counter}; Número de participantes em Northwest: {reg2_counter}; Número de participantes em Northeast: {reg3_counter}; Número de participantes em Southeast: {reg4_counter}\")"
   ]
  },
  {
   "cell_type": "markdown",
   "metadata": {},
   "source": [
    "Encontrar a média de cada variável."
   ]
  }
 ],
 "metadata": {
  "kernelspec": {
   "display_name": "Python (dissertacao_m)",
   "language": "python",
   "name": "dissertacao_mestrado"
  },
  "language_info": {
   "codemirror_mode": {
    "name": "ipython",
    "version": 3
   },
   "file_extension": ".py",
   "mimetype": "text/x-python",
   "name": "python",
   "nbconvert_exporter": "python",
   "pygments_lexer": "ipython3",
   "version": "3.13.2"
  }
 },
 "nbformat": 4,
 "nbformat_minor": 4
}
